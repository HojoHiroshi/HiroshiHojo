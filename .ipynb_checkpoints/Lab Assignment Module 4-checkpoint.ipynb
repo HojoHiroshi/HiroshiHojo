{
 "cells": [
  {
   "cell_type": "markdown",
   "metadata": {
    "id": "G0BcK0H_G1Iu"
   },
   "source": [
    "# **AP155 Lab Assignment**\n",
    "## Module 4: Ordinary Differential Equations\n",
    "\n",
    "_Instructions_: Answer each problem as completely as you can. Discuss **all** your answers as clearly and concisely as possible.\n",
    "\n",
    "_Scoring Criteria_: 50% - *correctness of code*; 50% - *discussion of the code and results*. Maximum score is **100 points**.\n"
   ]
  },
  {
   "cell_type": "markdown",
   "metadata": {
    "id": "PeHZ9kP8JaVR"
   },
   "source": [
    "### Student Information\n",
    "\n",
    "_Full Name (Last Name, First Name)_: Hojo, Hiroshi\\\n",
    "_Student No._: 202201830\\\n",
    "_Section_:TX-1"
   ]
  },
  {
   "cell_type": "markdown",
   "metadata": {
    "id": "Hc183co-J4eI"
   },
   "source": [
    "### Submission Information\n",
    "\n",
    "_Date and Time Submitted (most recent upload)_:\n",
    "\n",
    "**HONOR PLEDGE** I affirm that I have upheld the highest principles of honesty and integrity in my academic work and that this lab assignment is my own work.\n",
    "\n",
    "**Sign here with your full name:** Hiroshi Hojo (SGD.)"
   ]
  },
  {
   "cell_type": "markdown",
   "metadata": {
    "id": "aOuHbwPqGjZ4"
   },
   "source": [
    "### Grading Information (c/o Lab Instructor)\n",
    "\n",
    "TOTAL SCORE: **[]**/100\n",
    "\n",
    "Score breakdown:\n",
    "* Problem 1 - []/50\n",
    "* Problem 2 - []/50\n",
    "\n",
    "_Date and Time Scored (MM/DD/YYYY HH:MM AM/PM):_"
   ]
  },
  {
   "cell_type": "markdown",
   "metadata": {
    "id": "LxWuqiCFMsEh"
   },
   "source": [
    "### PROBLEM 1\n",
    "**The Lotka-Volterra equations**\n",
    "\n",
    "_Refer to Exercise 8.2 in the Newman text._ The Lotka-Volterra equations are a mathematical model of predator-prey interactions between biological species. Let two variables $x$ and $y$ be proportional to the size of the populations of two species, traditionally called \"rabbits\" (the prey) and \"foxes\" (the predators). You could think of $x$ and $y$ as being the population in thousands, say, so that $x = 2$ means there are 2000 rabbits.\n",
    "\n",
    "In the Lotka-Volterra model the rabbits reproduce at a rate proportional to their population, but are eaten by the foxes at a rate proportional to both their own population and the population of foxes:\n",
    "\n",
    "$$\\frac{{\\rm d}x}{{\\rm d}t} = \\alpha x - \\beta xy,$$\n",
    "\n",
    "where $\\alpha$ and $\\beta$ are constants. At the same time the foxes reproduce at a rate proportional to the rate at which they eat rabbits-- because they need food to grow and reproduce-- but also die of old age at a rate proportional to their own population:\n",
    "\n",
    "$$\\frac{{\\rm d}y}{{\\rm d}t}  = \\gamma xy - \\delta y,$$\n",
    "\n",
    "where $\\gamma$ and $\\delta$ are also constants. *(25 pts.)*\n",
    "\n",
    "1. Solve these equations using the fourth-order Runge-Kutta method for the case $\\alpha = 1, \\beta = \\gamma = 0.5$, and $\\delta = 2$, starting from the initial condition $x = y = 2$.\n",
    "\n",
    "2. Make a graph showing both $x$ and $y$ as a function of time on the same axes from $t =0$ to $t = 30$. *(25 pts.)*"
   ]
  },
  {
   "cell_type": "code",
   "execution_count": null,
   "metadata": {},
   "outputs": [],
   "source": [
    "from numpy import arange, array  #Importing functions for array creation and numerical ranges\n",
    "from pylab import plot, xlabel, ylabel, show, legend, title  #Importing functions for plotting and labeling\n",
    "\n",
    "#Define the system of differential equations (Lotka-Volterra Predator-Prey Model)\n",
    "def f(r, t):\n",
    "    x = r[0]  #Population of prey (e.g., rabbits)\n",
    "    y = r[1]  #Population of predator (e.g., foxes)\n",
    "    \n",
    "    #Model parameters\n",
    "    A = 1.0  #Growth rate of prey\n",
    "    B = 0.5  #Rate at which predators consume prey\n",
    "    g = 0.5  #Rate at which predators increase by consuming prey\n",
    "    S = 2    #Natural death rate of predators\n",
    "\n",
    "    #Differential equations for prey (fx) and predator (fy)\n",
    "    fx = A * x - B * x * y  #Change in prey population\n",
    "    fy = g * x * y - S * y  #Change in predator population\n",
    "    \n",
    "    #Return the rate of change as an array\n",
    "    return array([fx, fy], float)\n",
    "\n",
    "#Time range and step size for simulation\n",
    "a = 0.0     #Start time\n",
    "b = 30.0    #End time\n",
    "N = 1000    #Number of steps\n",
    "h = (b - a) / N  #Time step size\n",
    "\n",
    "#Create an array of time points\n",
    "tpoints = arange(a, b, h)\n",
    "\n",
    "#Lists to store prey and predator populations over time\n",
    "xpoints = []\n",
    "ypoints = []\n",
    "\n",
    "#Initial populations of prey and predator\n",
    "r = array([2.0, 2.0], float)  #[prey, predator]\n",
    "\n",
    "#Runge-Kutta method (RK4) to solve the system of differential equations\n",
    "for t in tpoints:\n",
    "    xpoints.append(r[0])  #Store prey population at time t\n",
    "    ypoints.append(r[1])  #Store predator population at time t\n",
    "    \n",
    "    #Compute the four Runge-Kutta terms (k1, k2, k3, k4)\n",
    "    k1 = h * f(r, t)\n",
    "    k2 = h * f(r + 0.5 * k1, t + 0.5 * h)\n",
    "    k3 = h * f(r + 0.5 * k2, t + 0.5 * h)\n",
    "    k4 = h * f(r + k3, t + h)\n",
    "    \n",
    "    #Update the population vector r using the weighted average of k1, k2, k3, k4\n",
    "    r += (k1 + 2 * k2 + 2 * k3 + k4) / 6\n",
    "\n",
    "#Plot the prey population over time\n",
    "plot(tpoints, xpoints, label='rabbit')\n",
    "\n",
    "#Plot the predator population over time\n",
    "plot(tpoints, ypoints, label='fox')\n",
    "title('mathematical model of predator-prey interactions')\n",
    "#Label the x-axis (time)\n",
    "xlabel(\"time\")\n",
    "\n",
    "#Display the legend for the plot\n",
    "legend()\n",
    "\n",
    "#Show the plot\n",
    "show()\n"
   ]
  },
  {
   "cell_type": "markdown",
   "metadata": {},
   "source": [
    "The graph illustrates the predator-prey interaction modeled by the Lotka-Volterra equations, where the blue curve represents the rabbit (prey) population and the orange curve represents the fox (predator) population. The oscillatory nature of the curves shows cyclic behavior: as the rabbit population increases, the fox population rises after a short delay due to the abundance of food. However, as the fox population grows, they consume more rabbits, causing the prey population to decline. This eventually leads to a reduction in the fox population as their food source diminishes. As the predator population drops, the rabbits have a chance to recover, and the cycle begins again."
   ]
  },
  {
   "cell_type": "markdown",
   "metadata": {
    "id": "kBX9EyMLOnXj"
   },
   "source": [
    "### PROBLEM 2\n",
    "\n",
    "**Nonlinear pendulum**\n",
    "\n",
    "_Refer to Exercise 8.4 in the Newman text._ Building on the results from Example 8.6, calculate the motion of a nonlinear pendulum as follows.\n",
    "\n",
    "1. Solve the two first-order equations, Eqs. (8.45) and (8.46), using the fourth-order Runge-Kutta method for a pendulum with a 10 cm arm. Use your program to calculate the angle $\\theta$ of displacement for several periods of the pendulum when it is released from a standstill at $\\theta = 179^\\circ$ from the vertical. *(25 pts.)*\n",
    "\n",
    "2. Make a graph of $\\theta$ as a function of time. *(25 pts.)*\n"
   ]
  },
  {
   "cell_type": "code",
   "execution_count": 4,
   "metadata": {},
   "outputs": [
    {
     "data": {
      "image/png": "[encoded data removed]",
      "text/plain": [
       "<Figure size 640x480 with 1 Axes>"
      ]
     },
     "metadata": {},
     "output_type": "display_data"
    }
   ],
   "source": [
    "from math import sin, pi  #Importing sine function and pi constant from math module\n",
    "from numpy import arange, array  #Importing functions for creating arrays and numerical ranges\n",
    "from pylab import plot, xlabel, ylabel, show, title  #Importing plotting functions\n",
    "\n",
    "#Physical constants\n",
    "g = 9.81  #Gravitational acceleration (m/s^2)\n",
    "l = 0.1   #Length of the pendulum (meters)\n",
    "\n",
    "#Define the system of differential equations for a simple pendulum\n",
    "def f(r, t):\n",
    "    θ = r[0]  #Angle of the pendulum (in radians)\n",
    "    w = r[1]  #Angular velocity (rate of change of angle)\n",
    "    \n",
    "    #Differential equations for the pendulum system\n",
    "    fθ = w  #dθ/dt = w (angular velocity)\n",
    "    fw = -(g / l) * sin(θ)  #dw/dt = -(g/l)*sin(θ) (angular acceleration)\n",
    "    \n",
    "    #Return the rate of change as an array\n",
    "    return array([fθ, fw], float)\n",
    "\n",
    "#Time range and step size for simulation\n",
    "a = 0.0      #Start time (seconds)\n",
    "b = 10.0     #End time (seconds)\n",
    "N = 3000     #Number of time steps\n",
    "h = (b - a) / N  #Time step size\n",
    "\n",
    "#Create an array of time points for the simulation\n",
    "tpoints = arange(a, b, h)\n",
    "\n",
    "#List to store the angle θ (pendulum's angular position) over time\n",
    "θ = []\n",
    "\n",
    "#Initial conditions: [initial angle (in radians), initial angular velocity]\n",
    "r = array([179 / 180 * pi, 0.0], float)  #Start with the pendulum nearly vertical (just below 180°)\n",
    "\n",
    "#Runge-Kutta method (RK4) to solve the system of differential equations\n",
    "for t in tpoints:\n",
    "    θ.append(r[0])  #Store the current angle of the pendulum at time t\n",
    "    \n",
    "    #Compute the four Runge-Kutta terms (k1, k2, k3, k4)\n",
    "    k1 = h * f(r, t)\n",
    "    k2 = h * f(r + 0.5 * k1, t + 0.5 * h)\n",
    "    k3 = h * f(r + 0.5 * k2, t + 0.5 * h)\n",
    "    k4 = h * f(r + k3, t + h)\n",
    "    \n",
    "    #Update the state vector r using the weighted average of k1, k2, k3, k4\n",
    "    r += (k1 + 2 * k2 + 2 * k3 + k4) / 6\n",
    "\n",
    "#Plot the angular position (θ) of the pendulum over time\n",
    "plot(tpoints, θ)\n",
    "title('Angular Displacement of a Simple Pendulum Over Time')\n",
    "\n",
    "#Label the x-axis (time)\n",
    "xlabel(\"time\")\n",
    "\n",
    "#Display the plot\n",
    "show()\n"
   ]
  },
  {
   "cell_type": "markdown",
   "metadata": {},
   "source": [
    "The graph represents the angular displacement of a non-linear pendulum over time, demonstrating periodic oscillations, though these are more complex than simple harmonic motion. Unlike a linear (small-angle) approximation, the non-linear pendulum accounts for large angular displacements, which result in more complex dynamics. The pendulum swings back and forth, with the angular displacement 𝜃 oscillating between positive and negative values, reflecting its motion under gravity.\n",
    "\n",
    "The graph still shows periodic motion, but because it's a non-linear system, the motion is not perfectly sinusoidal, especially at larger angles. The pendulum’s amplitude reaches close to ±𝜋 radians (about 180 degrees), as specified by the initial conditions, meaning the pendulum swings close to an inverted position. In a non-linear pendulum, the restoring force is proportional to the sine of the angular displacement sin(𝜃), not the angle itself. This makes the period of oscillation slightly dependent on the amplitude, though the period remains nearly constant for moderate angles."
   ]
  },
  {
   "cell_type": "code",
   "execution_count": null,
   "metadata": {},
   "outputs": [],
   "source": []
  }
 ],
 "metadata": {
  "colab": {
   "provenance": [
    {
     "file_id": "1FJlZnhC4nq-8ag5P6s8R5x9AryccJwSV",
     "timestamp": 1598775074680
    }
   ]
  },
  "kernelspec": {
   "display_name": "Python 3 (ipykernel)",
   "language": "python",
   "name": "python3"
  },
  "language_info": {
   "codemirror_mode": {
    "name": "ipython",
    "version": 3
   },
   "file_extension": ".py",
   "mimetype": "text/x-python",
   "name": "python",
   "nbconvert_exporter": "python",
   "pygments_lexer": "ipython3",
   "version": "3.12.4"
  }
 },
 "nbformat": 4,
 "nbformat_minor": 4
}
