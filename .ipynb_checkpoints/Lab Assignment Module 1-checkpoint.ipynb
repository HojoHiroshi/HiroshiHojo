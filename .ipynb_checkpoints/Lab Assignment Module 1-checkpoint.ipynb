{
 "cells": [
  {
   "cell_type": "markdown",
   "metadata": {
    "id": "G0BcK0H_G1Iu"
   },
   "source": [
    "# **AP155 Lab Assignment**\n",
    "## Module 1: Integrals and Derivatives\n",
    "\n",
    "_Instructions_: Answer each problem as completely as you can. Discuss **all** your answers as clearly and concisely as possible.\n",
    "\n",
    "_Scoring Criteria_: 50% - *correctness of code*; 50% - *discussion of the code and results*. Maximum score is **100 points**.\n",
    "\n",
    "\n"
   ]
  },
  {
   "cell_type": "markdown",
   "metadata": {
    "id": "PeHZ9kP8JaVR"
   },
   "source": [
    "### Student Information\n",
    "\n",
    "_Full Name (Last Name, First Name)_: Hojo, Hiroshi \\\n",
    "_Student No._: 202201830 \\\n",
    "_Section_: TX-1"
   ]
  },
  {
   "cell_type": "markdown",
   "metadata": {
    "id": "Hc183co-J4eI"
   },
   "source": [
    "### Submission Information\n",
    "\n",
    "_Date and Time Submitted (most recent upload)_:\n",
    "\n",
    "**HONOR PLEDGE** I affirm that I have upheld the highest principles of honesty and integrity in my academic work and that this lab assignment is my own work.\n",
    "\n",
    "**Sign here with your full name:** Hiroshi Madrigal Hojo (SGD.)"
   ]
  },
  {
   "cell_type": "markdown",
   "metadata": {
    "id": "X1UGsRpW-eQs"
   },
   "source": [
    "### Grading Information (c/o Lab Instructor)\n",
    "\n",
    "TOTAL SCORE: **XX**/100\n",
    "\n",
    "Score breakdown:\n",
    "* Problem 1 - XX/30\n",
    "* Problem 2 - XX/30\n",
    "* Problem 3 - XX/40\n",
    "\n",
    "_Date and Time Scored (MM/DD/YYYY HH:MM AM/PM):_"
   ]
  },
  {
   "cell_type": "markdown",
   "metadata": {
    "id": "LxWuqiCFMsEh"
   },
   "source": [
    "### PROBLEM 1\n",
    "**Integration using the trapezoidal rule and Simpson's rule**\n",
    "\n",
    "Calculate the integral of the function $ 2x^4 + 3x^2 + 4x + 5$ from $x=0$ to $x=5$.\n",
    "\n",
    "1. Do the numerical calculation using the trapezoidal rule with 10, 100, and 1,000 slices. Describe each step of the calculation clearly and concisely. *(10 pts.)*\n",
    "\n",
    "2. What are the percentage errors of your answers in (1)? *(10 pts.)*\n",
    "\n",
    "3. Repeat the calculation using Simpson's rule with 10, 100, and 1,000 slices. Describe each step of the calculation clearly and concisely. *(5 pts.)*\n",
    "\n",
    "4. What are the percentage errors of your answers in (3)? How do they compare with the results from (1) for the same number of slices? *(5 pts.)*"
   ]
  },
  {
   "cell_type": "code",
   "execution_count": 8,
   "metadata": {},
   "outputs": [
    {
     "name": "stdout",
     "output_type": "stream",
     "text": [
      "integrated value is 1471.4375 for 10 slices\n",
      "and it's percent deviation from the actual value is 1.478448275862069% for 10 slices\n",
      "integrated value is 1450.2145812500003 for 100 slices\n",
      "and it's percent deviation from the actual value is 0.014798706896569988% for 100 slices\n",
      "integrated value is 1450.002145833125 for 1000 slices\n",
      "and it's percent deviation from the actual value is 0.00014798849138216986% for 1000 slices\n"
     ]
    }
   ],
   "source": [
    "#1-2\n",
    "\n",
    "import numpy as np\n",
    "import math\n",
    "\n",
    "#we define our variables in this case our lower and upper limits being a and b respectively and N being our number of slices in the\n",
    "#trapezoid\n",
    "\n",
    "a = 0\n",
    "b = 5\n",
    "N = 10\n",
    "\n",
    "#here we define the points that make up our trapezoid and the left and right sides of our trapezoid, our array x being the boundaries from 0 to 5 with N being the number of slices within those bounds, and y being the given function of x\n",
    "\n",
    "x = np.linspace(a,b,N+1) #note that we have N+1 points instead of N, this is because only assigning N to this value will generate an N number of slices, this won't take into account both of our endpoints a and b which is why we have to assign N+1 points.\n",
    "y = 2*x**4 + 3*x**2 + 4*x + 5 #given function of x\n",
    "\n",
    "y_right = y[1:] #function values at the right end of the interval\n",
    "y_left = y[:-1] #function values at the left end of the interval\n",
    "\n",
    "del_x = (b-a)/N #interval width of the trapezoid\n",
    "A = (del_x/2) * np.sum(y_right + y_left) #approximation of the area of the trapezoid according to trapezoid rule\n",
    "print(f\"integrated value is {A} for 10 slices\")\n",
    "\n",
    "actual_value = 1450 #when done by hand, this is the actual value of the given definite integral\n",
    "percent_error = abs(actual_value - A) / actual_value * 100 #percent error formula, using the abs of the difference of theoretical to experimental just to ensure that the result will always be positive\n",
    "\n",
    "#print the output\n",
    "print(f\"and it's percent deviation from the actual value is {percent_error}% for 10 slices\")\n",
    "\n",
    "#100 slices\n",
    "\n",
    "a = 0\n",
    "b = 5\n",
    "N = 100\n",
    "\n",
    "x = np.linspace(a,b,N+1)\n",
    "y = 2*x**4 + 3*x**2 + 4*x + 5\n",
    "\n",
    "y_right = y[1:]\n",
    "y_left = y[:-1]\n",
    "\n",
    "del_x = (b-a)/N\n",
    "A = (del_x/2) * np.sum(y_right + y_left)\n",
    "print(f\"integrated value is {A} for 100 slices\")\n",
    "\n",
    "actual_value = 1450\n",
    "percent_error = abs(actual_value - A) / actual_value * 100\n",
    "\n",
    "print(f\"and it's percent deviation from the actual value is {percent_error}% for 100 slices\")\n",
    "\n",
    "#1000 slices \n",
    "\n",
    "a = 0\n",
    "b = 5\n",
    "N = 1000\n",
    "\n",
    "x = np.linspace(a,b,N+1)\n",
    "y = 2*x**4 + 3*x**2 + 4*x + 5\n",
    "\n",
    "y_right = y[1:]\n",
    "y_left = y[:-1]\n",
    "\n",
    "del_x = (b-a)/N\n",
    "A = (del_x/2) * np.sum(y_right + y_left)\n",
    "print(f\"integrated value is {A} for 1000 slices\")\n",
    "\n",
    "actual_value = 1450\n",
    "percent_error = abs(actual_value - A) / actual_value * 100\n",
    "\n",
    "print(f\"and it's percent deviation from the actual value is {percent_error}% for 1000 slices\")"
   ]
  },
  {
   "cell_type": "code",
   "execution_count": 10,
   "metadata": {},
   "outputs": [
    {
     "name": "stdout",
     "output_type": "stream",
     "text": [
      "Integrated value is 1450.0833333333333 for 10 slices\n",
      "and its percent deviation from the actual value is 0.005747126436776382% for 10 slices\n",
      "Integrated value is 1450.0000083333337 for 100 slices\n",
      "and its percent deviation from the actual value is 5.747126657485657e-07% for 100 slices\n",
      "Integrated value is 1450.0000000008345 for 1000 slices\n",
      "and its percent deviation from the actual value is 5.7549061301838734e-11% for 1000 slices\n"
     ]
    }
   ],
   "source": [
    "#3-4\n",
    "\n",
    "#10 slices\n",
    "\n",
    "import numpy as np\n",
    "# Define the parameters\n",
    "a = 0\n",
    "b = 5\n",
    "N = 10\n",
    "\n",
    "# Ensure N is even for Simpson's rule, important to note that for Simpson's rule to work the slices must be even always.\n",
    "if N % 2 != 0:\n",
    "    N += 1  # Increase N by 1 to make it even\n",
    "\n",
    "del_x = (b - a) / N\n",
    "x = np.linspace(a, b, N + 1)  # N+1 points, so N intervals\n",
    "y = 2*x**4 + 3*x**2 + 4*x + 5 # givem function\n",
    "\n",
    "# Implement Simpson's rule\n",
    "Integral = (del_x / 3) * (y[0] + 2 * sum(y[2:N:2]) + 4 * sum(y[1:N:2]) + y[N]) #formula for simpson's rule\n",
    "#print the output\n",
    "print(f\"Integrated value is {Integral} for 10 slices\")\n",
    "\n",
    "# Compare with the actual value\n",
    "actual_value = 1450 #done by hand\n",
    "percent_error = abs(actual_value - Integral) / actual_value * 100  #percent error formula, using the abs of the difference of theoretical to experimental just to ensure that the result will always be positive\n",
    "\n",
    "#print the output\n",
    "print(f\"and its percent deviation from the actual value is {percent_error}% for 10 slices\")\n",
    "\n",
    "#100 slices\n",
    "\n",
    "a = 0\n",
    "b = 5\n",
    "N = 100\n",
    "\n",
    "if N % 2 != 0:\n",
    "    N += 1\n",
    "\n",
    "del_x = (b - a) / N\n",
    "x = np.linspace(a, b, N + 1)\n",
    "y = 2*x**4 + 3*x**2 + 4*x + 5\n",
    "\n",
    "Integral = (del_x / 3) * (y[0] + 2 * sum(y[2:N:2]) + 4 * sum(y[1:N:2]) + y[N])\n",
    "print(f\"Integrated value is {Integral} for 100 slices\")\n",
    "\n",
    "actual_value = 1450\n",
    "percent_error = abs(actual_value - Integral) / actual_value * 100\n",
    "\n",
    "print(f\"and its percent deviation from the actual value is {percent_error}% for 100 slices\")\n",
    "\n",
    "#1000 slices\n",
    "\n",
    "a = 0\n",
    "b = 5\n",
    "N = 1000\n",
    "\n",
    "if N % 2 != 0:\n",
    "    N += 1\n",
    "\n",
    "del_x = (b - a) / N\n",
    "x = np.linspace(a, b, N + 1)\n",
    "y = 2*x**4 + 3*x**2 + 4*x + 5\n",
    "\n",
    "Integral = (del_x / 3) * (y[0] + 2 * sum(y[2:N:2]) + 4 * sum(y[1:N:2]) + y[N])\n",
    "print(f\"Integrated value is {Integral} for 1000 slices\")\n",
    "\n",
    "actual_value = 1450\n",
    "percent_error = abs(actual_value - Integral) / actual_value * 100\n",
    "\n",
    "print(f\"and its percent deviation from the actual value is {percent_error}% for 1000 slices\")"
   ]
  },
  {
   "cell_type": "markdown",
   "metadata": {},
   "source": [
    "4. We can observe that the percent error for Simpson's rule is way smaller compared to when integrating unsing the Trapezoidal rule, showing that Simpson's rule gives more accurate integrations compared to trapezodal; even when solved by hand using the formula of Simpson's rule should give an answer closer to the theoretical with smaller N values."
   ]
  },
  {
   "cell_type": "markdown",
   "metadata": {
    "id": "m2a6sg90R-NX"
   },
   "source": [
    "### PROBLEM 2\n",
    "\n",
    "**Integration using Gaussian quadrature**\n",
    "\n",
    "Calculate the integral from Problem 1 using the Gaussian quadrature method: $ 2x^4 + 3x^2 + 4x + 5$ from $x=0$ to $x=5$.\n",
    "\n",
    "1. Define the function $\\tt gaussxw$ from Appendix E of the Newman text (and run the cell). *(10 pts.)*\n",
    "\n",
    "2. Calculate the integral using the $\\tt gaussxw$ function in (1) and number of slices $N = 3$. Describe each step in the calculation clearly and concisely. *(20 pts.)*"
   ]
  },
  {
   "cell_type": "code",
   "execution_count": 1,
   "metadata": {
    "id": "YO_PDJ4VIVs5"
   },
   "outputs": [],
   "source": [
    "#1\n",
    "\n",
    "#this was taken from Newman's Appendix E\n",
    "\n",
    "from numpy import ones, copy, cos, tan, pi, linspace, max #importing numpy functions\n",
    "\n",
    "def gaussxw(N):\n",
    "    # Initial approximation to roots of the Legendre polynomial\n",
    "    a = linspace(3, 4*N-1, N) / (4*N+2)\n",
    "    x = cos(pi*a + 1 / (8*N*N*tan(a)))\n",
    "    \n",
    "    epsilon = 1e-15\n",
    "    delta = 1.0\n",
    "    \n",
    "    # Newton's method for root-finding\n",
    "    while delta > epsilon:\n",
    "        p0 = ones(N, float)\n",
    "        p1 = copy(x)\n",
    "        for k in range(1, N):\n",
    "            p0, p1 = p1, ((2*k+1)*x*p1 - k*p0) / (k+1)\n",
    "        \n",
    "        dp = (N+1)*(p0 - x*p1) / (1 - x*x)\n",
    "        dx = p1 / dp\n",
    "        x -= dx\n",
    "        delta = max(abs(dx))\n",
    "    \n",
    "    # Calculate the weights\n",
    "    w = 2 * (N+1)**2 / (N*N * (1 - x*x) * dp * dp)\n",
    "\n",
    "    return x, w\n",
    "\n",
    "# Adjust for any interval [a, b]\n",
    "def gaussxwab(N, a, b):\n",
    "    x, w = gaussxw(N)\n",
    "    return 0.5*(b-a)*x + 0.5*(b+a), 0.5*(b-a)*w"
   ]
  },
  {
   "cell_type": "code",
   "execution_count": 100,
   "metadata": {},
   "outputs": [
    {
     "name": "stdout",
     "output_type": "stream",
     "text": [
      "1450.000000000002\n"
     ]
    }
   ],
   "source": [
    "# Define the function to integrate\n",
    "def f(x):\n",
    "    return 2*x**4 + 3*x**2 + 4*x + 5\n",
    "\n",
    "# Set the parameters\n",
    "N = 3 # Number of points for Gaussian quadrature\n",
    "a = 0.0  # Lower limit of integration\n",
    "b = 5.0  # Upper limit of integration\n",
    "\n",
    "# Get the Gaussian quadrature points and weights for the interval [a, b]\n",
    "x, w = gaussxwab(N, a, b)\n",
    "\n",
    "# Perform the integration\n",
    "s = 0.0\n",
    "for k in range(N):\n",
    "    s += w[k] * f(x[k])\n",
    "\n",
    "# result\n",
    "print(s)"
   ]
  },
  {
   "cell_type": "markdown",
   "metadata": {},
   "source": [
    "This result is clearly very close to our theoretical value of 1450 even just with 3 slices, so compared to the trapezoid rule and the simpson's rule, using the gaussian quadrature proves to give the closest result. "
   ]
  },
  {
   "cell_type": "markdown",
   "metadata": {
    "id": "HceOjNu-VfN9"
   },
   "source": [
    "### PROBLEM 3\n",
    "\n",
    "**Physics Application: Anharmonic Oscillator**\n",
    "\n",
    "_Refer to Exercise 5.10 of the Newman text._ Consider an anharmonic oscillator with potential $V(x)$ symmetric about $x = 0$. Let us set our anharmonic oscillator going with amplitude $a$. That is, at $t = 0$ we release it from rest at position $x = a$ and it swings back towards the origin. Then at $t = 0$ we have $dx/dt = 0$ and the equation for its total energy becomes $E = V(a)$, i.e., the total energy of the particle is given in terms of the amplitude.\n",
    "\n",
    "When the particle reaches the origin for the first time, it has gone through one quarter of a period of the oscillator. The period $T$ is given by: $$ T = \\sqrt{8m} \\int_0^a \\frac{dx}{\\sqrt{V(a)-V(x)}}. $$\n",
    "\n",
    "1. Suppose the potential is $V(x) = x^4$ and the mass of the particle is $m = 1$. Write a Python function that calculates the period of the oscillator for given amplitude a using Gaussian quadrature with $N = 20$ points. Describe each step clearly and concisely. *(20 pts.)*\n",
    "\n",
    "2. Use your function to make a graph of the period for amplitudes ranging from $a = 0$ to $a = 2$. Describe the behavior you find and explain these results clearly and concisely. *(20 pts.)*"
   ]
  },
  {
   "cell_type": "code",
   "execution_count": 114,
   "metadata": {},
   "outputs": [],
   "source": [
    "from numpy import ones, copy, cos, tan, pi, linspace, max\n",
    "import numpy as np # using numpy to use the sqrt, sum, array functions that arent already used in defining gaussian quadrature\n",
    "import matplotlib.pyplot as plt # using pyplot for graphing the periods for amplitude\n",
    "\n",
    "def gaussxw(N):\n",
    "    # Initial approximation to roots of the Legendre polynomial\n",
    "    a = linspace(3, 4*N-1, N) / (4*N+2)\n",
    "    x = cos(pi*a + 1 / (8*N*N*tan(a)))\n",
    "    \n",
    "    epsilon = 1e-15\n",
    "    delta = 1.0\n",
    "    \n",
    "    # Newton's method for root-finding\n",
    "    while delta > epsilon:\n",
    "        p0 = ones(N, float)\n",
    "        p1 = copy(x)\n",
    "        for k in range(1, N):\n",
    "            p0, p1 = p1, ((2*k+1)*x*p1 - k*p0) / (k+1)\n",
    "        \n",
    "        dp = (N+1)*(p0 - x*p1) / (1 - x*x)\n",
    "        dx = p1 / dp\n",
    "        x -= dx\n",
    "        delta = max(abs(dx))\n",
    "    \n",
    "    # Calculate the weights\n",
    "    w = 2 * (N+1)**2 / (N*N * (1 - x*x) * dp * dp)\n",
    "\n",
    "    return x, w\n",
    "\n",
    "# Adjust for any interval [a, b]\n",
    "def gaussxwab(N, a, b):\n",
    "    x, w = gaussxw(N)\n",
    "    return 0.5*(b-a)*x + 0.5*(b+a), 0.5*(b-a)*w\n"
   ]
  },
  {
   "cell_type": "code",
   "execution_count": 116,
   "metadata": {},
   "outputs": [
    {
     "data": {
      "image/png": "[encoded data removed]",
      "text/plain": [
       "<Figure size 640x480 with 1 Axes>"
      ]
     },
     "metadata": {},
     "output_type": "display_data"
    },
    {
     "data": {
      "image/png": "[encoded data removed]",
      "text/plain": [
       "<Figure size 640x480 with 1 Axes>"
      ]
     },
     "metadata": {},
     "output_type": "display_data"
    },
    {
     "data": {
      "image/png": "[encoded data removed]",
      "text/plain": [
       "<Figure size 640x480 with 1 Axes>"
      ]
     },
     "metadata": {},
     "output_type": "display_data"
    }
   ],
   "source": [
    "# Define the integrand function\n",
    "def integrand(x, a):\n",
    "    return 1 / np.sqrt(a**4 - x**4) # when released at rest position x = a so we can assume that V(a) = a**4 while V(x) = x**4\n",
    "\n",
    "# Compute the period using Gaussian quadrature\n",
    "def period(a, N=20): # this is for keeping the gaussian quadrature within these period bounds\n",
    "    # Get Gaussian quadrature points and weights for the interval [0, a]\n",
    "    x, w = gaussxwab(N, 0, a)\n",
    "    \n",
    "    # Make a new variable 'integral', perform the integration using our integrand function\n",
    "    integral = np.sum(w * integrand(x, a))\n",
    "    \n",
    "    # The period is T(a) = sqrt(8m) * integral, we just set it as sqrt(8) since it is already mentioned that the mass (m) of particle is 1\n",
    "    return np.sqrt(8) * integral\n",
    "\n",
    "# when a starts at 0.1\n",
    "# Setting up the plotted periods for a range of amplitude values\n",
    "a_values = np.linspace(0.1, 2, 100) #can't set our amplitude value to exactly 0 because it will encounter an error in dividing by 0\n",
    "T_values = np.array([period(a) for a in a_values]) #to show the relation of a to T\n",
    "\n",
    "# Plot the periods as a function of amplitude\n",
    "plt.plot(a_values, T_values)\n",
    "plt.xlabel('Amplitude a') #label x axis\n",
    "plt.ylabel('Period T') #label y axis\n",
    "plt.title('Period of Amplitude from a = 0 to a = 2') #title of graph\n",
    "plt.show() #show graph\n",
    "\n",
    "# when a starts at 0.01\n",
    "\n",
    "# Setting up the plotted periods for a range of amplitude values\n",
    "a_values = np.linspace(0.01, 2, 100) #can't set our amplitude value to exactly 0 because it will encounter an error in dividing by 0\n",
    "T_values = np.array([period(a) for a in a_values]) #to show the relation of a to T\n",
    "\n",
    "# Plot the periods as a function of amplitude\n",
    "plt.plot(a_values, T_values)\n",
    "plt.xlabel('Amplitude a') #label x axis\n",
    "plt.ylabel('Period T') #label y axis\n",
    "plt.title('Period of Amplitude from a = 0 to a = 2') #title of graph\n",
    "plt.show() #show graph\n",
    "\n",
    "# when a starts at 0.001\n",
    "\n",
    "# Setting up the plotted periods for a range of amplitude values\n",
    "a_values = np.linspace(0.001, 2, 1000) #can't set our amplitude value to exactly 0 because it will encounter an error in dividing by 0\n",
    "T_values = np.array([period(a) for a in a_values]) #to show the relation of a to T\n",
    "\n",
    "# Plot the periods as a function of amplitude\n",
    "plt.plot(a_values, T_values)\n",
    "plt.xlabel('Amplitude a') #label x axis\n",
    "plt.ylabel('Period T') #label y axis\n",
    "plt.title('Period of Amplitude from a = 0 to a = 2') #title of graph\n",
    "plt.show() #show graph"
   ]
  },
  {
   "cell_type": "markdown",
   "metadata": {},
   "source": [
    "Looking at the graph, the period T of the anharmonic oscillator is highest when amplitude is closest to 0. As mentioned, we can't explicitly input 0 for amplitude a because this causes a math error or runtime error when dividing the values by 0. To simply put it, a particle when at it's lowest energy at rest, it is also at the maximum point of it's position. Thus the more energy the particle holds consequently means that it is going through a period of the oscillator in the slowest rate. When simulated with a starting a value closer and closer to 0, we can better observe how fast the period drops when a increases."
   ]
  }
 ],
 "metadata": {
  "colab": {
   "provenance": []
  },
  "kernelspec": {
   "display_name": "Python 3 (ipykernel)",
   "language": "python",
   "name": "python3"
  },
  "language_info": {
   "codemirror_mode": {
    "name": "ipython",
    "version": 3
   },
   "file_extension": ".py",
   "mimetype": "text/x-python",
   "name": "python",
   "nbconvert_exporter": "python",
   "pygments_lexer": "ipython3",
   "version": "3.12.4"
  }
 },
 "nbformat": 4,
 "nbformat_minor": 4
}
