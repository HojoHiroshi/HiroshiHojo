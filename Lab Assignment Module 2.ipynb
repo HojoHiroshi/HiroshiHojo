{
 "cells": [
  {
   "cell_type": "markdown",
   "metadata": {
    "id": "G0BcK0H_G1Iu"
   },
   "source": [
    "# **AP155 Lab Assignment**\n",
    "## Module 2: Solution of Linear and Nonlinear Equations\n",
    "\n",
    "_Instructions_: Answer each problem as completely as you can. Discuss **all** your answers as clearly and concisely as possible.\n",
    "\n",
    "_Scoring Criteria_: 50% - *correctness of code*; 50% - *discussion of the code and results*. Maximum score is **100 points**.\n",
    "\n"
   ]
  },
  {
   "cell_type": "markdown",
   "metadata": {
    "id": "PeHZ9kP8JaVR"
   },
   "source": [
    "### Student Information\n",
    "\n",
    "_Full Name (Last Name, First Name)_: Hojo, Hiroshi \\\n",
    "_Student No._: 202201830\\\n",
    "_Section_: TX - 1"
   ]
  },
  {
   "cell_type": "markdown",
   "metadata": {
    "id": "Hc183co-J4eI"
   },
   "source": [
    "### Submission Information\n",
    "\n",
    "_Date and Time Submitted (most recent upload)_:\n",
    "\n",
    "**HONOR PLEDGE** I affirm that I have upheld the highest principles of honesty and integrity in my academic work and that this lab assignment is my own work.\n",
    "\n",
    "**Sign here with your full name:**"
   ]
  },
  {
   "cell_type": "markdown",
   "metadata": {
    "id": "4LUwfsfMBmvd"
   },
   "source": [
    "### Grading Information (c/o Lab Instructor)\n",
    "\n",
    "TOTAL SCORE: **XX**/100\n",
    "\n",
    "Score breakdown:\n",
    "* Problem 1 - XX/30\n",
    "* Problem 2 - XX/30\n",
    "* Problem 3 - XX/40\n",
    "\n"
   ]
  },
  {
   "cell_type": "markdown",
   "metadata": {
    "id": "kBX9EyMLOnXj"
   },
   "source": [
    "### PROBLEM 1\n",
    "\n",
    "**Solve for eigenvalues and eigenvectors of a symmetric matrix**\n",
    "\n",
    "1. Use numpy's $\\tt linalg$ package to find the eigenvalues and eigenvectors of the ff. symmetrix matrix *(15 pts.)*:\n",
    "\n",
    "$ \\begin{equation}\n",
    "{\\bf A} =\n",
    "\\begin{pmatrix}\n",
    "8 & -2 & -20 \\\\\n",
    "-2 & -3 & -9 \\\\\n",
    "-20 & -9 & -3\n",
    "\\end{pmatrix} \\end{equation} $\n",
    "\n",
    "2. Check your answer numerically; that is, check that $\\bf AV = VD$, where the $N$ x $N$ matrix $\\bf V$ has the eigenvectors as its columns and $\\bf D$ is the diagonal matrix with the eigenvalues $\\lambda_i$ as its diagonal entries. *(15 pts.)*"
   ]
  },
  {
   "cell_type": "code",
   "execution_count": 1,
   "metadata": {
    "id": "GABjwlXCR97i"
   },
   "outputs": [
    {
     "name": "stdout",
     "output_type": "stream",
     "text": [
      "Eigenvalues of A : [-21.99606195   0.16021522  23.83584674]\n",
      "Eigenvectors of A : [[ 0.52496527  0.36793396 -0.76748685]\n",
      " [ 0.40892672 -0.89987151 -0.15169114]\n",
      " [ 0.74645187  0.2342133   0.62285932]]\n"
     ]
    }
   ],
   "source": [
    "import numpy as np  #Importing NumPy library\n",
    "from numpy.linalg import eigh  # Importing the eigh function to compute the eigenvalues and eigenvectors of a symmetric matrix\n",
    "\n",
    "#Define a symmetric matrix A\n",
    "A = np.array([[8, -2, -20],\n",
    "             [-2, -3, -9],\n",
    "             [-20, -9, -3]])\n",
    "\n",
    "#Compute the eigenvalues (w) and eigenvectors (v) of matrix A using the eigh function\n",
    "#Eigh is specifically optimized for Hermitian or symmetric matrices\n",
    "w, v = eigh(A)\n",
    "\n",
    "# Print the eigenvalues of matrix A\n",
    "print(f'Eigenvalues of A : {w}')\n",
    "\n",
    "# Print the eigenvectors of matrix A\n",
    "print(f'Eigenvectors of A : {v}')"
   ]
  },
  {
   "cell_type": "code",
   "execution_count": 3,
   "metadata": {},
   "outputs": [
    {
     "name": "stdout",
     "output_type": "stream",
     "text": [
      "AV: [[-11.54716868   0.05894862 -18.29369893]\n",
      " [ -8.99477756  -0.14417311  -3.61568676]\n",
      " [-16.4190016    0.03752454  14.8463793 ]]\n",
      "VD: [[-11.54716868   0.05894862 -18.29369893]\n",
      " [ -8.99477756  -0.14417311  -3.61568676]\n",
      " [-16.4190016    0.03752454  14.8463793 ]]\n",
      "[[ True  True  True]\n",
      " [ True  True  True]\n",
      " [ True  True  True]]\n",
      "Thus showing that AV = VD\n"
     ]
    }
   ],
   "source": [
    "import numpy as np\n",
    "\n",
    "#Define a symmetric matrix A\n",
    "A = np.array([[8, -2, -20],\n",
    "             [-2, -3, -9],\n",
    "             [-20, -9, -3]])\n",
    "\n",
    "#Compute the eigenvalues (w) and eigenvectors (v) of matrix A using the eigh function\n",
    "w, v = eigh(A)\n",
    "\n",
    "#Create a diagonal matrix D using the eigenvalues w\n",
    "D = np.diag(w)\n",
    "\n",
    "#Compute the matrix multiplication of A and v \n",
    "AV = np.dot(A, v)\n",
    "\n",
    "#Compute the matrix multiplication of v and D\n",
    "VD = np.dot(v, D)\n",
    "\n",
    "#Print the result of A * v (which should equal v * D)\n",
    "print('AV:', AV)\n",
    "\n",
    "#Print the result of v * D (which should equal A * v)\n",
    "print('VD:', VD)\n",
    "\n",
    "#Showing that the eigenvector relationship holds\n",
    "print(np.round(AV,6) == np.round(VD,6))\n",
    "print('Thus showing that AV = VD')"
   ]
  },
  {
   "cell_type": "code",
   "execution_count": 5,
   "metadata": {},
   "outputs": [
    {
     "name": "stdout",
     "output_type": "stream",
     "text": [
      "Q : [[-0.36980013 -0.86392404  0.34188173]\n",
      " [ 0.09245003 -0.40035504 -0.91168461]\n",
      " [ 0.92450033 -0.30553411  0.22792115]]\n",
      "R : [[-21.63330765  -7.85825278   3.79045134]\n",
      " [  0.           5.67872021  21.79827851]\n",
      " [  0.           0.           0.68376346]]\n",
      "QR:  [[  8.  -2. -20.]\n",
      " [ -2.  -3.  -9.]\n",
      " [-20.  -9.  -3.]]\n"
     ]
    }
   ],
   "source": [
    "import numpy as np\n",
    "from numpy.linalg import qr\n",
    "\n",
    "a = np.array([[8, -2, -20],\n",
    "             [-2, -3, -9],\n",
    "              [-20, -9, -3]])\n",
    "\n",
    "q, r = qr(a)\n",
    "print('Q :', q)\n",
    "print('R :', r)\n",
    "\n",
    "b = np.dot(q, r)\n",
    "print('QR: ', b)"
   ]
  },
  {
   "cell_type": "code",
   "execution_count": 7,
   "metadata": {},
   "outputs": [
    {
     "name": "stdout",
     "output_type": "stream",
     "text": [
      "iteration 1:\n",
      "[[10.77777778 20.67751348  0.63213954]\n",
      " [20.67751348 -8.93362193 -0.20891306]\n",
      " [ 0.63213954 -0.20891306  0.15584416]]\n",
      "iteration 5:\n",
      "[[ 1.58960169e+01  1.73452201e+01  1.38804074e-09]\n",
      " [ 1.73452201e+01 -1.40562321e+01 -9.56789838e-10]\n",
      " [ 1.38804535e-09 -9.56793413e-10  1.60215219e-01]]\n",
      "iteration 10:\n",
      "[[ 1.99037985e+01 -1.28355862e+01  1.06820802e-15]\n",
      " [-1.28355862e+01 -1.80640137e+01 -5.73241862e-15]\n",
      " [-2.00263427e-20 -2.49073788e-20  1.60215219e-01]]\n",
      "iteration 20:\n",
      "[[ 2.29890827e+01 -6.17185557e+00  1.97288752e-15]\n",
      " [-6.17185557e+00 -2.11492980e+01 -5.48718176e-15]\n",
      " [-3.90626543e-42 -1.20566033e-41  1.60215219e-01]]\n"
     ]
    }
   ],
   "source": [
    "import numpy as np\n",
    "from numpy.linalg import qr\n",
    "\n",
    "a = np.array([[8, -2, -20],\n",
    "             [-2, -3, -9],\n",
    "              [-20, -9, -3]])\n",
    "\n",
    "p = [1, 5, 10, 20]\n",
    "for i in range(20):\n",
    "    q, r = qr(a)\n",
    "    a = np.dot(r, q)\n",
    "    if i+1 in p:\n",
    "        print(f'iteration {i+1}:')\n",
    "        print(a)"
   ]
  },
  {
   "cell_type": "markdown",
   "metadata": {
    "id": "HceOjNu-VfN9"
   },
   "source": [
    "### PROBLEM 2\n",
    "\n",
    "**Solve a nonlinear equation using the relaxation method**\n",
    "\n",
    "Consider the equation $x=1- e^{-cx}$, where $c$ is a known parameter and $x$ is unknown. This equation arises in a variety of situations, including the physics of contact processes, mathematical models of epidemics, and the theory of random graphs.\n",
    "\n",
    "1. Write a program to solve this equation for $x$ using the relaxation method for the case $c = 2$. Calculate your solution to an accuracy of at least $10^{-6}$. *(10 pts.)*\n",
    "\n",
    "2. Modify your program to calculate the solution for values of $c$ from 0 to 3 in steps of 0.01. *(10 pts.)*\n",
    "\n",
    "3. Make a plot of $x$ as a function of $c$. Describe the different regimes that you see. *(10 pts.)*"
   ]
  },
  {
   "cell_type": "code",
   "execution_count": 9,
   "metadata": {},
   "outputs": [
    {
     "name": "stdout",
     "output_type": "stream",
     "text": [
      "x = 0.7968126311118457\n",
      "at 14 iterations\n"
     ]
    }
   ],
   "source": [
    "from math import exp\n",
    "\n",
    "#Initial guess for x\n",
    "x0 = 1.0\n",
    "tol = 1e-6  #Desired accuracy\n",
    "c = 2  #constant value of c in the original equation\n",
    "i = 0\n",
    "\n",
    "while True:\n",
    "    x = 1 - exp(-c * x0)\n",
    "    i += 1\n",
    "    #Check if the difference between successive values is smaller than the tolerance\n",
    "    if abs(x - x0) < tol:\n",
    "        print(f\"x = {x}\")\n",
    "        break\n",
    "    \n",
    "    x0 = x\n",
    "else:\n",
    "    print(\"Does not converge.\")\n",
    "\n",
    "print(f'at {i} iterations')\n"
   ]
  },
  {
   "cell_type": "code",
   "execution_count": 5,
   "metadata": {},
   "outputs": [
    {
     "data": {
      "image/png": "[encoded data removed]",
      "text/plain": [
       "<Figure size 640x480 with 1 Axes>"
      ]
     },
     "metadata": {},
     "output_type": "display_data"
    },
    {
     "data": {
      "image/png": "[encoded data removed]",
      "text/plain": [
       "<Figure size 640x480 with 1 Axes>"
      ]
     },
     "metadata": {},
     "output_type": "display_data"
    }
   ],
   "source": [
    "import matplotlib.pyplot as plt\n",
    "from math import exp\n",
    "\n",
    "#Define the function to compute the next iteration of x\n",
    "def xiterations(c, x0, tol=1e-6):\n",
    "\n",
    "    while True:\n",
    "        x = 1 - exp(-c * x0)  #Update equation\n",
    "        \n",
    "        #Check if the difference between successive values is smaller than the tolerance\n",
    "        if abs(x - x0) < tol:\n",
    "            return x\n",
    "        \n",
    "        x0 = x  #Update x0 for the next iteration\n",
    "    return x  #Return the last computed value if the loop does not converge\n",
    "\n",
    "\n",
    "#Initialize lists to store values of c and corresponding x\n",
    "x_values = []\n",
    "c_values = [round(i * 0.01, 2) for i in range(301)]  #Values of c from 0 to 3 in steps of 0.01\n",
    "\n",
    "\n",
    "#Iterate over values of c and compute the corresponding x\n",
    "for c in c_values:\n",
    "    x0 = 1.0  #Reset initial guess for each c\n",
    "    x = xiterations(c, x0)  #Compute the solution for this c\n",
    "    x_values.append(x)  #Store the computed x\n",
    "\n",
    "#Plot x as a function of c\n",
    "plt.plot(c_values, x_values, label=\"x as a function of c\")\n",
    "plt.xlabel('c')\n",
    "plt.ylabel('x')\n",
    "plt.title('Solution x as a function of c')\n",
    "plt.legend()\n",
    "plt.show()\n",
    "\n",
    "import matplotlib.pyplot as plt\n",
    "from math import exp\n",
    "\n",
    "#Define the function to compute the next iteration of x\n",
    "def xiterations(c, x0, tol=1e-6):\n",
    "\n",
    "    while True:\n",
    "        x = 1 - exp(-c * x0)  #Update equation\n",
    "        \n",
    "        #Check if the difference between successive values is smaller than the tolerance\n",
    "        if abs(x - x0) < tol:\n",
    "            return x\n",
    "        \n",
    "        x0 = x  #Update x0 for the next iteration\n",
    "    return x  #Return the last computed value if the loop does not converge\n",
    "\n",
    "\n",
    "#Initialize lists to store values of c and corresponding x\n",
    "x_values = []\n",
    "c_values = [round(i * 0.01, 2) for i in range(301)]  #Values of c from 0 to 3 in steps of 0.01\n",
    "\n",
    "\n",
    "#Iterate over values of c and compute the corresponding x\n",
    "for c in c_values:\n",
    "    x0 = 0.1  #Reset initial guess for each c\n",
    "    x = xiterations(c, x0)  #Compute the solution for this c\n",
    "    x_values.append(x)  #Store the computed x\n",
    "\n",
    "#Plot x as a function of c\n",
    "plt.plot(c_values, x_values, label=\"x as a function of c\")\n",
    "plt.xlabel('c')\n",
    "plt.ylabel('x')\n",
    "plt.title('Solution x as a function of c')\n",
    "plt.legend()\n",
    "plt.show()\n",
    "\n"
   ]
  },
  {
   "cell_type": "markdown",
   "metadata": {},
   "source": [
    "If we observe the behavior of the graph, we can see that when x starts initially at 0 and will only increase once c is 1.0 . When we simulate the equation with x initially starting closer and closer, but not at 0, we will still see the same jump at c = 1. only when x is at 0 will we observe that the loop will just keep outputting x = 0 and not increase from there no matter the c values. "
   ]
  },
  {
   "cell_type": "markdown",
   "metadata": {
    "id": "BY5x-mZsYoqG"
   },
   "source": [
    "### PROBLEM 3\n",
    "\n",
    "**Physics Application: Calculating the Lagrange point**\n",
    "\n",
    "_Refer to Exercise 6.16 of the Newman text._ The $L_1$ Lagrange point is the point between the Earth and the Moon at which a satellite will orbit the Earth in perfect synchrony with the Moon, staying always in between the two.\n",
    "\n",
    "Assuming circular orbits, and assuming that the Earth is much more massive than either the Moon or the satellite, the distance $r$ from the center of the Earth to the $L_1$ point satisfies\n",
    "$$ \\begin{equation}\n",
    "\\frac{GM}{r^2} - \\frac{Gm}{(R-r)^2} = \\omega^2 r,\n",
    "\\end{equation} $$\n",
    "where $R$ is the distance from the Earth to the Moon, $M$ and $m$ are the Earth and Moon masses, $G$ is Newton's gravitational constant, and $\\omega$ is the angular velocity of both the Moon and the satellite."
   ]
  },
  {
   "cell_type": "markdown",
   "metadata": {
    "id": "LlDDXIZ46CKU"
   },
   "source": [
    "Use Newton's method to solve for the distance r from the Earth to the $L_1$ point. Compute a solution accurate to at least four significant figures."
   ]
  },
  {
   "cell_type": "code",
   "execution_count": 3,
   "metadata": {
    "id": "Jiu5YAx6aMmq"
   },
   "outputs": [
    {
     "name": "stdout",
     "output_type": "stream",
     "text": [
      "326045072\n"
     ]
    }
   ],
   "source": [
    "#constants taken directly from Newman\n",
    "G = 6.674 * 10**(-11)\n",
    "M = 5.974 * 10**24\n",
    "m = 7.348 * 10**22\n",
    "R = 3.844 * 10**8\n",
    "w = 2.662 * 10**(-6)\n",
    "tol = 1e-4\n",
    "r = 10000\n",
    "\n",
    "def f(r): #define our function of r as the given equation\n",
    "    return G*M/(r**2) - (G*m)/(R-r)**2 - (w**2)*r\n",
    "\n",
    "def fprime(r): #define fprime as the first derivative of f(r)\n",
    "    return -2*(G*M)/(r**3) - 2*(G*m)/(R-r)**3 - (w**2)\n",
    "\n",
    "while True: #setup our loop in obtaining all iterations of r using Newton's method until it reaches a convergence point which is when abs(r2-r) is less than the tolerance \n",
    "    r2 = r #comparing our 'test' r to the set r\n",
    "    r = r - f(r)/fprime(r) #Newton's method : rate of convergence, neglecting the error portion\n",
    "    \n",
    "    if abs(r2-r) < tol: #this condition is set to achieve at which distance r is most closest to the accuracy for this solution\n",
    "      break  \n",
    "        \n",
    "print (round(r)) \n",
    "    \n",
    "    "
   ]
  },
  {
   "cell_type": "code",
   "execution_count": null,
   "metadata": {},
   "outputs": [],
   "source": []
  }
 ],
 "metadata": {
  "colab": {
   "provenance": [
    {
     "file_id": "1FJlZnhC4nq-8ag5P6s8R5x9AryccJwSV",
     "timestamp": 1598775074680
    }
   ]
  },
  "kernelspec": {
   "display_name": "Python 3 (ipykernel)",
   "language": "python",
   "name": "python3"
  },
  "language_info": {
   "codemirror_mode": {
    "name": "ipython",
    "version": 3
   },
   "file_extension": ".py",
   "mimetype": "text/x-python",
   "name": "python",
   "nbconvert_exporter": "python",
   "pygments_lexer": "ipython3",
   "version": "3.12.4"
  }
 },
 "nbformat": 4,
 "nbformat_minor": 4
}
