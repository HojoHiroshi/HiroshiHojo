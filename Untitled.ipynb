{
 "cells": [
  {
   "cell_type": "code",
   "execution_count": null,
   "id": "e6e10102-e478-4cee-b2d5-0eceb1115a9b",
   "metadata": {},
   "outputs": [],
   "source": [
    "pip install xlrd"
   ]
  },
  {
   "cell_type": "code",
   "execution_count": 1,
   "id": "30e6e620-40fe-4542-a986-5fbcde1aff19",
   "metadata": {},
   "outputs": [],
   "source": [
    "import pandas as pd\n",
    "\n",
    "import xlrd\n",
    "\n",
    "file_location = '/Users/hmhojo/Documents/CMPL/SAMPLEDATABASE.xls'\n",
    "workbook = xlrd.open_workbook(file_location)"
   ]
  },
  {
   "cell_type": "code",
   "execution_count": null,
   "id": "b25bb7b6-dd91-42e4-b73c-093e8bf0ace6",
   "metadata": {},
   "outputs": [],
   "source": []
  },
  {
   "cell_type": "markdown",
   "id": "2fd22ae8-f64f-4b70-9711-c70d420f0684",
   "metadata": {},
   "source": []
  },
  {
   "cell_type": "code",
   "execution_count": null,
   "id": "5a67151d-2bfa-4e0d-bb3e-c8b6c9322f39",
   "metadata": {},
   "outputs": [],
   "source": []
  }
 ],
 "metadata": {
  "kernelspec": {
   "display_name": "Python 3 (ipykernel)",
   "language": "python",
   "name": "python3"
  },
  "language_info": {
   "codemirror_mode": {
    "name": "ipython",
    "version": 3
   },
   "file_extension": ".py",
   "mimetype": "text/x-python",
   "name": "python",
   "nbconvert_exporter": "python",
   "pygments_lexer": "ipython3",
   "version": "3.12.4"
  }
 },
 "nbformat": 4,
 "nbformat_minor": 5
}
