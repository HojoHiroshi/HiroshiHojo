{
 "cells": [
  {
   "cell_type": "markdown",
   "id": "66632694-cf69-442d-b739-45b6e8994a27",
   "metadata": {},
   "source": [
    "**Trapezoidal Rule**"
   ]
  },
  {
   "cell_type": "code",
   "execution_count": 11,
   "id": "d61dd0f7-3851-458d-95ea-ba9dc1d0932a",
   "metadata": {},
   "outputs": [
    {
     "name": "stdout",
     "output_type": "stream",
     "text": [
      "integrated value is 1471.4375\n",
      "and it's percent deviation from the actual value is 1.478448275862069%\n"
     ]
    }
   ],
   "source": [
    "import numpy as np\n",
    "import math\n",
    "\n",
    "#we define our variables in this case our lower and upper limits being a and b respectively and N being our number of slices in the\n",
    "#trapezoid\n",
    "\n",
    "a = 0\n",
    "b = 5\n",
    "N = 10\n",
    "\n",
    "#here we define the points that make up our trapezoid and the left and right sides of our trapezoid, our array x being the boundaries from 0 to 5 with N being the number of slices within those bounds, and y being the given function of x\n",
    "\n",
    "x = np.linspace(a,b,N+1) #note that we have N+1 points instead of N, this is because only assigning N to this value will generate an N number of slices, this won't take into account both of our endpoints a and b which is why we have to assign N+1 points.\n",
    "y = 2*x**4 + 3*x**2 + 4*x + 5 #given function of x\n",
    "\n",
    "y_right = y[1:] #function values at the right end of the interval\n",
    "y_left = y[:-1] #function values at the left end of the interval\n",
    "\n",
    "del_x = (b-a)/N #interval width of the trapezoid\n",
    "A = (del_x/2) * np.sum(y_right + y_left) #approximation of the area of the trapezoid according to trapezoid rule\n",
    "print(f\"integrated value is {A}\")\n",
    "\n",
    "actual_value = 1450 #when done by hand, this is the actual value of the given definite integral\n",
    "percent_error = abs(actual_value - A) / actual_value * 100 #percent error formula\n",
    "\n",
    "print(f\"and it's percent deviation from the actual value is {percent_error}%\")"
   ]
  },
  {
   "cell_type": "code",
   "execution_count": 13,
   "id": "c8d96464-9e6b-44ce-9176-6df525dc4c9c",
   "metadata": {},
   "outputs": [
    {
     "name": "stdout",
     "output_type": "stream",
     "text": [
      "integrated value is 1450.2145812500003\n",
      "and it's percent deviation from the actual value is 0.014798706896569988%\n"
     ]
    }
   ],
   "source": [
    "a = 0\n",
    "b = 5\n",
    "N = 100\n",
    "\n",
    "x = np.linspace(a,b,N+1)\n",
    "y = 2*x**4 + 3*x**2 + 4*x + 5\n",
    "\n",
    "y_right = y[1:]\n",
    "y_left = y[:-1]\n",
    "\n",
    "del_x = (b-a)/N\n",
    "A = (del_x/2) * np.sum(y_right + y_left)\n",
    "print(f\"integrated value is {A}\")\n",
    "\n",
    "actual_value = 1450\n",
    "percent_error = abs(actual_value - A) / actual_value * 100\n",
    "\n",
    "print(f\"and it's percent deviation from the actual value is {percent_error}%\")"
   ]
  },
  {
   "cell_type": "code",
   "execution_count": 15,
   "id": "a02176e1-b620-45ff-98fe-5247a6df9554",
   "metadata": {},
   "outputs": [
    {
     "name": "stdout",
     "output_type": "stream",
     "text": [
      "integrated value is 1450.002145833125\n",
      "and it's percent deviation from the actual value is 0.00014798849138216986%\n"
     ]
    }
   ],
   "source": [
    "a = 0\n",
    "b = 5\n",
    "N = 1000\n",
    "\n",
    "x = np.linspace(a,b,N+1)\n",
    "y = 2*x**4 + 3*x**2 + 4*x + 5\n",
    "\n",
    "y_right = y[1:]\n",
    "y_left = y[:-1]\n",
    "\n",
    "del_x = (b-a)/N\n",
    "A = (del_x/2) * np.sum(y_right + y_left)\n",
    "print(f\"integrated value is {A}\")\n",
    "\n",
    "actual_value = 1450\n",
    "percent_error = abs(actual_value - A) / actual_value * 100\n",
    "\n",
    "print(f\"and it's percent deviation from the actual value is {percent_error}%\")"
   ]
  },
  {
   "cell_type": "markdown",
   "id": "a8b41bdd-420f-49c8-9dda-0e04aeee3a7e",
   "metadata": {},
   "source": [
    "/"
   ]
  },
  {
   "cell_type": "markdown",
   "id": "6978567b-914f-4994-aa76-f1fb4dc40730",
   "metadata": {},
   "source": [
    "**Simpson's Rule**"
   ]
  },
  {
   "cell_type": "code",
   "execution_count": 21,
   "id": "d4898a7e-bcd4-49f2-9ad5-b79333536c7f",
   "metadata": {},
   "outputs": [
    {
     "name": "stdout",
     "output_type": "stream",
     "text": [
      "Integrated value is 1450.0833333333333\n",
      "and its percent deviation from the actual value is 0.005747126436776382%\n"
     ]
    }
   ],
   "source": [
    "import numpy as np\n",
    "\n",
    "# Define the parameters\n",
    "a = 0\n",
    "b = 5\n",
    "N = 10\n",
    "\n",
    "# Ensure N is even for Simpson's rule\n",
    "if N % 2 != 0:\n",
    "    N += 1  # Increase N by 1 to make it even\n",
    "\n",
    "del_x = (b - a) / N\n",
    "x = np.linspace(a, b, N + 1)  # N+1 points, so N intervals\n",
    "y = 2*x**4 + 3*x**2 + 4*x + 5\n",
    "\n",
    "# Simpson's rule\n",
    "Integral = (del_x / 3) * (y[0] + 2 * sum(y[2:N:2]) + 4 * sum(y[1:N:2]) + y[N])\n",
    "print(f\"Integrated value is {Integral}\")\n",
    "\n",
    "# Compare with the actual value\n",
    "actual_value = 1450\n",
    "percent_error = abs(actual_value - Integral) / actual_value * 100\n",
    "\n",
    "print(f\"and its percent deviation from the actual value is {percent_error}%\")\n"
   ]
  },
  {
   "cell_type": "code",
   "execution_count": 23,
   "id": "2f21e8bb-6be9-40ec-a81c-bcf26711587a",
   "metadata": {},
   "outputs": [
    {
     "name": "stdout",
     "output_type": "stream",
     "text": [
      "Integrated value is 1450.0000083333337\n",
      "and its percent deviation from the actual value is 5.747126657485657e-07%\n"
     ]
    }
   ],
   "source": [
    "import numpy as np\n",
    "\n",
    "# Define the parameters\n",
    "a = 0\n",
    "b = 5\n",
    "N = 100\n",
    "\n",
    "# Ensure N is even for Simpson's rule\n",
    "if N % 2 != 0:\n",
    "    N += 1  # Increase N by 1 to make it even\n",
    "\n",
    "del_x = (b - a) / N\n",
    "x = np.linspace(a, b, N + 1)  # N+1 points, so N intervals\n",
    "y = 2*x**4 + 3*x**2 + 4*x + 5\n",
    "\n",
    "# Simpson's rule\n",
    "Integral = (del_x / 3) * (y[0] + 2 * sum(y[2:N:2]) + 4 * sum(y[1:N:2]) + y[N])\n",
    "print(f\"Integrated value is {Integral}\")\n",
    "\n",
    "# Compare with the actual value\n",
    "actual_value = 1450\n",
    "percent_error = abs(actual_value - Integral) / actual_value * 100\n",
    "\n",
    "print(f\"and its percent deviation from the actual value is {percent_error}%\")\n"
   ]
  },
  {
   "cell_type": "code",
   "execution_count": 25,
   "id": "f03a5f6b-4966-441e-9c9d-f4e6c20c2f30",
   "metadata": {},
   "outputs": [
    {
     "name": "stdout",
     "output_type": "stream",
     "text": [
      "Integrated value is 1450.0000000008345\n",
      "and its percent deviation from the actual value is 5.7549061301838734e-11%\n"
     ]
    }
   ],
   "source": [
    "import numpy as np\n",
    "\n",
    "# Define the parameters\n",
    "a = 0\n",
    "b = 5\n",
    "N = 1000\n",
    "\n",
    "# Ensure N is even for Simpson's rule\n",
    "if N % 2 != 0:\n",
    "    N += 1  # Increase N by 1 to make it even\n",
    "\n",
    "del_x = (b - a) / N\n",
    "x = np.linspace(a, b, N + 1)  # N+1 points, so N intervals\n",
    "y = 2*x**4 + 3*x**2 + 4*x + 5\n",
    "\n",
    "# Simpson's rule\n",
    "Integral = (del_x / 3) * (y[0] + 2 * sum(y[2:N:2]) + 4 * sum(y[1:N:2]) + y[N])\n",
    "print(f\"Integrated value is {Integral}\")\n",
    "\n",
    "# Compare with the actual value\n",
    "actual_value = 1450\n",
    "percent_error = abs(actual_value - Integral) / actual_value * 100\n",
    "\n",
    "print(f\"and its percent deviation from the actual value is {percent_error}%\")\n"
   ]
  }
 ],
 "metadata": {
  "kernelspec": {
   "display_name": "Python 3 (ipykernel)",
   "language": "python",
   "name": "python3"
  },
  "language_info": {
   "codemirror_mode": {
    "name": "ipython",
    "version": 3
   },
   "file_extension": ".py",
   "mimetype": "text/x-python",
   "name": "python",
   "nbconvert_exporter": "python",
   "pygments_lexer": "ipython3",
   "version": "3.12.4"
  }
 },
 "nbformat": 4,
 "nbformat_minor": 5
}
